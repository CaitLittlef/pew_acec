{
  "nbformat": 4,
  "nbformat_minor": 0,
  "metadata": {
    "colab": {
      "name": "acec_data_extract.ipynb",
      "provenance": [],
      "collapsed_sections": [],
      "authorship_tag": "ABX9TyPY9m0OYd+wmR9ASG/vYe54",
      "include_colab_link": true
    },
    "kernelspec": {
      "name": "python3",
      "display_name": "Python 3"
    },
    "language_info": {
      "name": "python"
    }
  },
  "cells": [
    {
      "cell_type": "markdown",
      "metadata": {
        "id": "view-in-github",
        "colab_type": "text"
      },
      "source": [
        "<a href=\"https://colab.research.google.com/github/CaitLittlef/pew_acec/blob/main/acec_data_extract.ipynb\" target=\"_parent\"><img src=\"https://colab.research.google.com/assets/colab-badge.svg\" alt=\"Open In Colab\"/></a>"
      ]
    },
    {
      "cell_type": "markdown",
      "source": [
        "# **Python/GEE set-up**"
      ],
      "metadata": {
        "id": "Xxrm19IRt2vx"
      }
    },
    {
      "cell_type": "code",
      "metadata": {
        "id": "5DyfMR1jmqEo",
        "colab": {
          "base_uri": "https://localhost:8080/"
        },
        "outputId": "9539a5cc-3362-4d62-dbc8-d05a1512cd4e"
      },
      "source": [
        "## Initializing\n",
        "\n",
        "!pip install geemap   \n",
        "# !pip install rasterio\n",
        "# !pip install geopandas\n",
        "# !pip install earthpy\n",
        "\n",
        "# # Installs geemap package\n",
        "# import subprocess\n",
        "\n",
        "# try:\n",
        "#     import geemap\n",
        "# except ImportError:\n",
        "#     print('geemap package not installed. Installing ...')\n",
        "#     subprocess.check_call([\"python\", '-m', 'pip', 'install', 'geemap'])\n",
        "\n",
        "# Import packages\n",
        "import os\n",
        "import glob\n",
        "\n",
        "\n",
        "import ee\n",
        "# import folium\n",
        "import geemap\n",
        "import matplotlib.pyplot as plt\n",
        "# import numpy as np\n",
        "# import pandas as pd\n",
        "# import rasterio as rio\n",
        "# import geopandas as gpd\n",
        "# import earthpy as et \n",
        "from tabulate import tabulate\n",
        "# from folium import plugins\n",
        "from random import seed\n",
        "from random import randint\n",
        "from pprint import pprint # tidy printing\n",
        "from datetime import datetime\n",
        "from ee.data import getInfo\n",
        "import pickle\n",
        "import statistics as st\n",
        "\n",
        "from ee.data import getInfo\n",
        "# If all you need to do is find out what's in the container, then just print() and inspect the result in the console.\n",
        "# If, for some reason, you need to use Python running in the client to manipulate whatever is in the container, then use getInfo() to get the contents of the container and assign it to a variable\n",
        "# Ref: https://developers.google.com/earth-engine/guides/client_server\n",
        "\n",
        "\n"
      ],
      "execution_count": 2,
      "outputs": [
        {
          "output_type": "stream",
          "name": "stdout",
          "text": [
            "Looking in indexes: https://pypi.org/simple, https://us-python.pkg.dev/colab-wheels/public/simple/\n",
            "Requirement already satisfied: geemap in /usr/local/lib/python3.7/dist-packages (0.13.8)\n",
            "Requirement already satisfied: geojson in /usr/local/lib/python3.7/dist-packages (from geemap) (2.5.0)\n",
            "Requirement already satisfied: geocoder in /usr/local/lib/python3.7/dist-packages (from geemap) (1.38.1)\n",
            "Requirement already satisfied: xyzservices in /usr/local/lib/python3.7/dist-packages (from geemap) (2022.4.0)\n",
            "Requirement already satisfied: mapclassify>=2.4.0 in /usr/local/lib/python3.7/dist-packages (from geemap) (2.4.3)\n",
            "Requirement already satisfied: numpy in /usr/local/lib/python3.7/dist-packages (from geemap) (1.21.6)\n",
            "Requirement already satisfied: ee-extra>=0.0.10 in /usr/local/lib/python3.7/dist-packages (from geemap) (0.0.13)\n",
            "Requirement already satisfied: pyshp>=2.1.3 in /usr/local/lib/python3.7/dist-packages (from geemap) (2.3.0)\n",
            "Requirement already satisfied: pillow in /usr/local/lib/python3.7/dist-packages (from geemap) (7.1.2)\n",
            "Requirement already satisfied: geeadd>=0.5.1 in /usr/local/lib/python3.7/dist-packages (from geemap) (0.5.5)\n",
            "Requirement already satisfied: ipytree in /usr/local/lib/python3.7/dist-packages (from geemap) (0.2.1)\n",
            "Requirement already satisfied: bqplot in /usr/local/lib/python3.7/dist-packages (from geemap) (0.12.33)\n",
            "Requirement already satisfied: earthengine-api>=0.1.304 in /usr/local/lib/python3.7/dist-packages (from geemap) (0.1.311)\n",
            "Requirement already satisfied: ipyevents in /usr/local/lib/python3.7/dist-packages (from geemap) (2.0.1)\n",
            "Requirement already satisfied: jupyterlab>=3 in /usr/local/lib/python3.7/dist-packages (from geemap) (3.4.3)\n",
            "Requirement already satisfied: sankee in /usr/local/lib/python3.7/dist-packages (from geemap) (0.0.7)\n",
            "Requirement already satisfied: python-box in /usr/local/lib/python3.7/dist-packages (from geemap) (6.0.2)\n",
            "Requirement already satisfied: pycrs in /usr/local/lib/python3.7/dist-packages (from geemap) (1.0.2)\n",
            "Requirement already satisfied: whiteboxgui>=0.6.0 in /usr/local/lib/python3.7/dist-packages (from geemap) (0.7.0)\n",
            "Requirement already satisfied: matplotlib in /usr/local/lib/python3.7/dist-packages (from geemap) (3.2.2)\n",
            "Requirement already satisfied: colour in /usr/local/lib/python3.7/dist-packages (from geemap) (0.1.5)\n",
            "Requirement already satisfied: gdown in /usr/local/lib/python3.7/dist-packages (from geemap) (4.4.0)\n",
            "Requirement already satisfied: folium>=0.11.0 in /usr/local/lib/python3.7/dist-packages (from geemap) (0.12.1.post1)\n",
            "Requirement already satisfied: ffmpeg-python in /usr/local/lib/python3.7/dist-packages (from geemap) (0.2.0)\n",
            "Requirement already satisfied: ipyleaflet>=0.14.0 in /usr/local/lib/python3.7/dist-packages (from geemap) (0.16.0)\n",
            "Requirement already satisfied: ipyfilechooser>=0.6.0 in /usr/local/lib/python3.7/dist-packages (from geemap) (0.6.0)\n",
            "Requirement already satisfied: pandas in /usr/local/lib/python3.7/dist-packages (from geemap) (1.3.5)\n",
            "Requirement already satisfied: google-auth-httplib2>=0.0.3 in /usr/local/lib/python3.7/dist-packages (from earthengine-api>=0.1.304->geemap) (0.0.4)\n",
            "Requirement already satisfied: httplib2<1dev,>=0.9.2 in /usr/local/lib/python3.7/dist-packages (from earthengine-api>=0.1.304->geemap) (0.17.4)\n",
            "Requirement already satisfied: httplib2shim in /usr/local/lib/python3.7/dist-packages (from earthengine-api>=0.1.304->geemap) (0.0.3)\n",
            "Requirement already satisfied: six in /usr/local/lib/python3.7/dist-packages (from earthengine-api>=0.1.304->geemap) (1.15.0)\n",
            "Requirement already satisfied: google-auth>=1.4.1 in /usr/local/lib/python3.7/dist-packages (from earthengine-api>=0.1.304->geemap) (1.35.0)\n",
            "Requirement already satisfied: future in /usr/local/lib/python3.7/dist-packages (from earthengine-api>=0.1.304->geemap) (0.16.0)\n",
            "Requirement already satisfied: google-api-python-client<2,>=1.12.1 in /usr/local/lib/python3.7/dist-packages (from earthengine-api>=0.1.304->geemap) (1.12.11)\n",
            "Requirement already satisfied: google-cloud-storage in /usr/local/lib/python3.7/dist-packages (from earthengine-api>=0.1.304->geemap) (1.18.1)\n",
            "Requirement already satisfied: jinja2>=2.9 in /usr/local/lib/python3.7/dist-packages (from folium>=0.11.0->geemap) (3.1.2)\n",
            "Requirement already satisfied: requests in /usr/local/lib/python3.7/dist-packages (from folium>=0.11.0->geemap) (2.23.0)\n",
            "Requirement already satisfied: branca>=0.3.0 in /usr/local/lib/python3.7/dist-packages (from folium>=0.11.0->geemap) (0.5.0)\n",
            "Requirement already satisfied: logzero>=1.5.0 in /usr/local/lib/python3.7/dist-packages (from geeadd>=0.5.1->geemap) (1.7.0)\n",
            "Requirement already satisfied: beautifulsoup4>=4.9.0 in /usr/local/lib/python3.7/dist-packages (from geeadd>=0.5.1->geemap) (4.11.1)\n",
            "Requirement already satisfied: soupsieve>1.2 in /usr/local/lib/python3.7/dist-packages (from beautifulsoup4>=4.9.0->geeadd>=0.5.1->geemap) (2.3.2.post1)\n",
            "Requirement already satisfied: uritemplate<4dev,>=3.0.0 in /usr/local/lib/python3.7/dist-packages (from google-api-python-client<2,>=1.12.1->earthengine-api>=0.1.304->geemap) (3.0.1)\n",
            "Requirement already satisfied: google-api-core<3dev,>=1.21.0 in /usr/local/lib/python3.7/dist-packages (from google-api-python-client<2,>=1.12.1->earthengine-api>=0.1.304->geemap) (1.31.6)\n",
            "Requirement already satisfied: googleapis-common-protos<2.0dev,>=1.6.0 in /usr/local/lib/python3.7/dist-packages (from google-api-core<3dev,>=1.21.0->google-api-python-client<2,>=1.12.1->earthengine-api>=0.1.304->geemap) (1.56.2)\n",
            "Requirement already satisfied: packaging>=14.3 in /usr/local/lib/python3.7/dist-packages (from google-api-core<3dev,>=1.21.0->google-api-python-client<2,>=1.12.1->earthengine-api>=0.1.304->geemap) (21.3)\n",
            "Requirement already satisfied: setuptools>=40.3.0 in /usr/local/lib/python3.7/dist-packages (from google-api-core<3dev,>=1.21.0->google-api-python-client<2,>=1.12.1->earthengine-api>=0.1.304->geemap) (57.4.0)\n",
            "Requirement already satisfied: protobuf<4.0.0dev,>=3.12.0 in /usr/local/lib/python3.7/dist-packages (from google-api-core<3dev,>=1.21.0->google-api-python-client<2,>=1.12.1->earthengine-api>=0.1.304->geemap) (3.17.3)\n",
            "Requirement already satisfied: pytz in /usr/local/lib/python3.7/dist-packages (from google-api-core<3dev,>=1.21.0->google-api-python-client<2,>=1.12.1->earthengine-api>=0.1.304->geemap) (2022.1)\n",
            "Requirement already satisfied: rsa<5,>=3.1.4 in /usr/local/lib/python3.7/dist-packages (from google-auth>=1.4.1->earthengine-api>=0.1.304->geemap) (4.8)\n",
            "Requirement already satisfied: cachetools<5.0,>=2.0.0 in /usr/local/lib/python3.7/dist-packages (from google-auth>=1.4.1->earthengine-api>=0.1.304->geemap) (4.2.4)\n",
            "Requirement already satisfied: pyasn1-modules>=0.2.1 in /usr/local/lib/python3.7/dist-packages (from google-auth>=1.4.1->earthengine-api>=0.1.304->geemap) (0.2.8)\n",
            "Requirement already satisfied: ipywidgets in /usr/local/lib/python3.7/dist-packages (from ipyfilechooser>=0.6.0->geemap) (7.7.0)\n",
            "Requirement already satisfied: traittypes<3,>=0.2.1 in /usr/local/lib/python3.7/dist-packages (from ipyleaflet>=0.14.0->geemap) (0.2.1)\n",
            "Requirement already satisfied: traitlets>=4.3.1 in /usr/local/lib/python3.7/dist-packages (from ipywidgets->ipyfilechooser>=0.6.0->geemap) (5.2.2.post1)\n",
            "Requirement already satisfied: ipython>=4.0.0 in /usr/local/lib/python3.7/dist-packages (from ipywidgets->ipyfilechooser>=0.6.0->geemap) (5.5.0)\n",
            "Requirement already satisfied: nbformat>=4.2.0 in /usr/local/lib/python3.7/dist-packages (from ipywidgets->ipyfilechooser>=0.6.0->geemap) (5.4.0)\n",
            "Requirement already satisfied: ipython-genutils~=0.2.0 in /usr/local/lib/python3.7/dist-packages (from ipywidgets->ipyfilechooser>=0.6.0->geemap) (0.2.0)\n",
            "Requirement already satisfied: jupyterlab-widgets>=1.0.0 in /usr/local/lib/python3.7/dist-packages (from ipywidgets->ipyfilechooser>=0.6.0->geemap) (1.1.0)\n",
            "Requirement already satisfied: widgetsnbextension~=3.6.0 in /usr/local/lib/python3.7/dist-packages (from ipywidgets->ipyfilechooser>=0.6.0->geemap) (3.6.0)\n",
            "Requirement already satisfied: ipykernel>=4.5.1 in /usr/local/lib/python3.7/dist-packages (from ipywidgets->ipyfilechooser>=0.6.0->geemap) (4.10.1)\n",
            "Requirement already satisfied: tornado>=4.0 in /usr/local/lib/python3.7/dist-packages (from ipykernel>=4.5.1->ipywidgets->ipyfilechooser>=0.6.0->geemap) (6.1)\n",
            "Requirement already satisfied: jupyter-client in /usr/local/lib/python3.7/dist-packages (from ipykernel>=4.5.1->ipywidgets->ipyfilechooser>=0.6.0->geemap) (7.3.3)\n",
            "Requirement already satisfied: simplegeneric>0.8 in /usr/local/lib/python3.7/dist-packages (from ipython>=4.0.0->ipywidgets->ipyfilechooser>=0.6.0->geemap) (0.8.1)\n",
            "Requirement already satisfied: decorator in /usr/local/lib/python3.7/dist-packages (from ipython>=4.0.0->ipywidgets->ipyfilechooser>=0.6.0->geemap) (4.4.2)\n",
            "Requirement already satisfied: prompt-toolkit<2.0.0,>=1.0.4 in /usr/local/lib/python3.7/dist-packages (from ipython>=4.0.0->ipywidgets->ipyfilechooser>=0.6.0->geemap) (1.0.18)\n",
            "Requirement already satisfied: pickleshare in /usr/local/lib/python3.7/dist-packages (from ipython>=4.0.0->ipywidgets->ipyfilechooser>=0.6.0->geemap) (0.7.5)\n",
            "Requirement already satisfied: pygments in /usr/local/lib/python3.7/dist-packages (from ipython>=4.0.0->ipywidgets->ipyfilechooser>=0.6.0->geemap) (2.6.1)\n",
            "Requirement already satisfied: pexpect in /usr/local/lib/python3.7/dist-packages (from ipython>=4.0.0->ipywidgets->ipyfilechooser>=0.6.0->geemap) (4.8.0)\n",
            "Requirement already satisfied: MarkupSafe>=2.0 in /usr/local/lib/python3.7/dist-packages (from jinja2>=2.9->folium>=0.11.0->geemap) (2.0.1)\n",
            "Requirement already satisfied: nbclassic~=0.2 in /usr/local/lib/python3.7/dist-packages (from jupyterlab>=3->geemap) (0.3.7)\n",
            "Requirement already satisfied: jupyter-core in /usr/local/lib/python3.7/dist-packages (from jupyterlab>=3->geemap) (4.10.0)\n",
            "Requirement already satisfied: jupyter-server~=1.16 in /usr/local/lib/python3.7/dist-packages (from jupyterlab>=3->geemap) (1.17.0)\n",
            "Requirement already satisfied: jupyterlab-server~=2.10 in /usr/local/lib/python3.7/dist-packages (from jupyterlab>=3->geemap) (2.14.0)\n",
            "Requirement already satisfied: terminado>=0.8.3 in /usr/local/lib/python3.7/dist-packages (from jupyter-server~=1.16->jupyterlab>=3->geemap) (0.13.3)\n",
            "Requirement already satisfied: Send2Trash in /usr/local/lib/python3.7/dist-packages (from jupyter-server~=1.16->jupyterlab>=3->geemap) (1.8.0)\n",
            "Requirement already satisfied: prometheus-client in /usr/local/lib/python3.7/dist-packages (from jupyter-server~=1.16->jupyterlab>=3->geemap) (0.14.1)\n",
            "Requirement already satisfied: nbconvert>=6.4.4 in /usr/local/lib/python3.7/dist-packages (from jupyter-server~=1.16->jupyterlab>=3->geemap) (6.5.0)\n",
            "Requirement already satisfied: websocket-client in /usr/local/lib/python3.7/dist-packages (from jupyter-server~=1.16->jupyterlab>=3->geemap) (1.3.2)\n",
            "Requirement already satisfied: argon2-cffi in /usr/local/lib/python3.7/dist-packages (from jupyter-server~=1.16->jupyterlab>=3->geemap) (21.3.0)\n",
            "Requirement already satisfied: pyzmq>=17 in /usr/local/lib/python3.7/dist-packages (from jupyter-server~=1.16->jupyterlab>=3->geemap) (23.0.0)\n",
            "Requirement already satisfied: anyio<4,>=3.1.0 in /usr/local/lib/python3.7/dist-packages (from jupyter-server~=1.16->jupyterlab>=3->geemap) (3.6.1)\n",
            "Requirement already satisfied: sniffio>=1.1 in /usr/local/lib/python3.7/dist-packages (from anyio<4,>=3.1.0->jupyter-server~=1.16->jupyterlab>=3->geemap) (1.2.0)\n",
            "Requirement already satisfied: typing-extensions in /usr/local/lib/python3.7/dist-packages (from anyio<4,>=3.1.0->jupyter-server~=1.16->jupyterlab>=3->geemap) (4.2.0)\n",
            "Requirement already satisfied: idna>=2.8 in /usr/local/lib/python3.7/dist-packages (from anyio<4,>=3.1.0->jupyter-server~=1.16->jupyterlab>=3->geemap) (2.10)\n",
            "Requirement already satisfied: python-dateutil>=2.8.2 in /usr/local/lib/python3.7/dist-packages (from jupyter-client->ipykernel>=4.5.1->ipywidgets->ipyfilechooser>=0.6.0->geemap) (2.8.2)\n",
            "Requirement already satisfied: entrypoints in /usr/local/lib/python3.7/dist-packages (from jupyter-client->ipykernel>=4.5.1->ipywidgets->ipyfilechooser>=0.6.0->geemap) (0.4)\n",
            "Requirement already satisfied: nest-asyncio>=1.5.4 in /usr/local/lib/python3.7/dist-packages (from jupyter-client->ipykernel>=4.5.1->ipywidgets->ipyfilechooser>=0.6.0->geemap) (1.5.5)\n",
            "Requirement already satisfied: babel in /usr/local/lib/python3.7/dist-packages (from jupyterlab-server~=2.10->jupyterlab>=3->geemap) (2.10.1)\n",
            "Requirement already satisfied: jsonschema>=3.0.1 in /usr/local/lib/python3.7/dist-packages (from jupyterlab-server~=2.10->jupyterlab>=3->geemap) (4.3.3)\n",
            "Requirement already satisfied: importlib-metadata>=3.6 in /usr/local/lib/python3.7/dist-packages (from jupyterlab-server~=2.10->jupyterlab>=3->geemap) (4.11.4)\n",
            "Requirement already satisfied: json5 in /usr/local/lib/python3.7/dist-packages (from jupyterlab-server~=2.10->jupyterlab>=3->geemap) (0.9.8)\n",
            "Requirement already satisfied: zipp>=0.5 in /usr/local/lib/python3.7/dist-packages (from importlib-metadata>=3.6->jupyterlab-server~=2.10->jupyterlab>=3->geemap) (3.8.0)\n",
            "Requirement already satisfied: importlib-resources>=1.4.0 in /usr/local/lib/python3.7/dist-packages (from jsonschema>=3.0.1->jupyterlab-server~=2.10->jupyterlab>=3->geemap) (5.7.1)\n",
            "Requirement already satisfied: attrs>=17.4.0 in /usr/local/lib/python3.7/dist-packages (from jsonschema>=3.0.1->jupyterlab-server~=2.10->jupyterlab>=3->geemap) (21.4.0)\n",
            "Requirement already satisfied: pyrsistent!=0.17.0,!=0.17.1,!=0.17.2,>=0.14.0 in /usr/local/lib/python3.7/dist-packages (from jsonschema>=3.0.1->jupyterlab-server~=2.10->jupyterlab>=3->geemap) (0.18.1)\n",
            "Requirement already satisfied: networkx in /usr/local/lib/python3.7/dist-packages (from mapclassify>=2.4.0->geemap) (2.6.3)\n",
            "Requirement already satisfied: scipy>=1.0 in /usr/local/lib/python3.7/dist-packages (from mapclassify>=2.4.0->geemap) (1.4.1)\n",
            "Requirement already satisfied: scikit-learn in /usr/local/lib/python3.7/dist-packages (from mapclassify>=2.4.0->geemap) (1.0.2)\n",
            "Requirement already satisfied: notebook-shim>=0.1.0 in /usr/local/lib/python3.7/dist-packages (from nbclassic~=0.2->jupyterlab>=3->geemap) (0.1.0)\n",
            "Requirement already satisfied: notebook<7 in /usr/local/lib/python3.7/dist-packages (from nbclassic~=0.2->jupyterlab>=3->geemap) (5.3.1)\n",
            "Requirement already satisfied: bleach in /usr/local/lib/python3.7/dist-packages (from nbconvert>=6.4.4->jupyter-server~=1.16->jupyterlab>=3->geemap) (5.0.0)\n",
            "Requirement already satisfied: jupyterlab-pygments in /usr/local/lib/python3.7/dist-packages (from nbconvert>=6.4.4->jupyter-server~=1.16->jupyterlab>=3->geemap) (0.2.2)\n",
            "Requirement already satisfied: pandocfilters>=1.4.1 in /usr/local/lib/python3.7/dist-packages (from nbconvert>=6.4.4->jupyter-server~=1.16->jupyterlab>=3->geemap) (1.5.0)\n",
            "Requirement already satisfied: mistune<2,>=0.8.1 in /usr/local/lib/python3.7/dist-packages (from nbconvert>=6.4.4->jupyter-server~=1.16->jupyterlab>=3->geemap) (0.8.4)\n",
            "Requirement already satisfied: tinycss2 in /usr/local/lib/python3.7/dist-packages (from nbconvert>=6.4.4->jupyter-server~=1.16->jupyterlab>=3->geemap) (1.1.1)\n",
            "Requirement already satisfied: nbclient>=0.5.0 in /usr/local/lib/python3.7/dist-packages (from nbconvert>=6.4.4->jupyter-server~=1.16->jupyterlab>=3->geemap) (0.6.4)\n",
            "Requirement already satisfied: defusedxml in /usr/local/lib/python3.7/dist-packages (from nbconvert>=6.4.4->jupyter-server~=1.16->jupyterlab>=3->geemap) (0.7.1)\n",
            "Requirement already satisfied: fastjsonschema in /usr/local/lib/python3.7/dist-packages (from nbformat>=4.2.0->ipywidgets->ipyfilechooser>=0.6.0->geemap) (2.15.3)\n",
            "Requirement already satisfied: pyparsing!=3.0.5,>=2.0.2 in /usr/local/lib/python3.7/dist-packages (from packaging>=14.3->google-api-core<3dev,>=1.21.0->google-api-python-client<2,>=1.12.1->earthengine-api>=0.1.304->geemap) (3.0.9)\n",
            "Requirement already satisfied: wcwidth in /usr/local/lib/python3.7/dist-packages (from prompt-toolkit<2.0.0,>=1.0.4->ipython>=4.0.0->ipywidgets->ipyfilechooser>=0.6.0->geemap) (0.2.5)\n",
            "Requirement already satisfied: pyasn1<0.5.0,>=0.4.6 in /usr/local/lib/python3.7/dist-packages (from pyasn1-modules>=0.2.1->google-auth>=1.4.1->earthengine-api>=0.1.304->geemap) (0.4.8)\n",
            "Requirement already satisfied: certifi>=2017.4.17 in /usr/local/lib/python3.7/dist-packages (from requests->folium>=0.11.0->geemap) (2022.5.18.1)\n",
            "Requirement already satisfied: urllib3!=1.25.0,!=1.25.1,<1.26,>=1.21.1 in /usr/local/lib/python3.7/dist-packages (from requests->folium>=0.11.0->geemap) (1.24.3)\n",
            "Requirement already satisfied: chardet<4,>=3.0.2 in /usr/local/lib/python3.7/dist-packages (from requests->folium>=0.11.0->geemap) (3.0.4)\n",
            "Requirement already satisfied: ptyprocess in /usr/local/lib/python3.7/dist-packages (from terminado>=0.8.3->jupyter-server~=1.16->jupyterlab>=3->geemap) (0.7.0)\n",
            "Requirement already satisfied: whitebox in /usr/local/lib/python3.7/dist-packages (from whiteboxgui>=0.6.0->geemap) (2.1.2)\n",
            "Requirement already satisfied: argon2-cffi-bindings in /usr/local/lib/python3.7/dist-packages (from argon2-cffi->jupyter-server~=1.16->jupyterlab>=3->geemap) (21.2.0)\n",
            "Requirement already satisfied: cffi>=1.0.1 in /usr/local/lib/python3.7/dist-packages (from argon2-cffi-bindings->argon2-cffi->jupyter-server~=1.16->jupyterlab>=3->geemap) (1.15.0)\n",
            "Requirement already satisfied: pycparser in /usr/local/lib/python3.7/dist-packages (from cffi>=1.0.1->argon2-cffi-bindings->argon2-cffi->jupyter-server~=1.16->jupyterlab>=3->geemap) (2.21)\n",
            "Requirement already satisfied: webencodings in /usr/local/lib/python3.7/dist-packages (from bleach->nbconvert>=6.4.4->jupyter-server~=1.16->jupyterlab>=3->geemap) (0.5.1)\n",
            "Requirement already satisfied: filelock in /usr/local/lib/python3.7/dist-packages (from gdown->geemap) (3.7.0)\n",
            "Requirement already satisfied: tqdm in /usr/local/lib/python3.7/dist-packages (from gdown->geemap) (4.64.0)\n",
            "Requirement already satisfied: click in /usr/local/lib/python3.7/dist-packages (from geocoder->geemap) (7.1.2)\n",
            "Requirement already satisfied: ratelim in /usr/local/lib/python3.7/dist-packages (from geocoder->geemap) (0.1.6)\n",
            "Requirement already satisfied: google-cloud-core<2.0dev,>=1.0.0 in /usr/local/lib/python3.7/dist-packages (from google-cloud-storage->earthengine-api>=0.1.304->geemap) (1.0.3)\n",
            "Requirement already satisfied: google-resumable-media<0.5.0dev,>=0.3.1 in /usr/local/lib/python3.7/dist-packages (from google-cloud-storage->earthengine-api>=0.1.304->geemap) (0.4.1)\n",
            "Requirement already satisfied: kiwisolver>=1.0.1 in /usr/local/lib/python3.7/dist-packages (from matplotlib->geemap) (1.4.2)\n",
            "Requirement already satisfied: cycler>=0.10 in /usr/local/lib/python3.7/dist-packages (from matplotlib->geemap) (0.11.0)\n",
            "Requirement already satisfied: PySocks!=1.5.7,>=1.5.6 in /usr/local/lib/python3.7/dist-packages (from requests->folium>=0.11.0->geemap) (1.7.1)\n",
            "Requirement already satisfied: plotly>=5.2.2 in /usr/local/lib/python3.7/dist-packages (from sankee->geemap) (5.5.0)\n",
            "Requirement already satisfied: tenacity>=6.2.0 in /usr/local/lib/python3.7/dist-packages (from plotly>=5.2.2->sankee->geemap) (8.0.1)\n",
            "Requirement already satisfied: joblib>=0.11 in /usr/local/lib/python3.7/dist-packages (from scikit-learn->mapclassify>=2.4.0->geemap) (1.1.0)\n",
            "Requirement already satisfied: threadpoolctl>=2.0.0 in /usr/local/lib/python3.7/dist-packages (from scikit-learn->mapclassify>=2.4.0->geemap) (3.1.0)\n"
          ]
        }
      ]
    },
    {
      "cell_type": "code",
      "source": [
        "# Trigger GEE authentication flow.\n",
        "ee.Authenticate()\n",
        "\n",
        "# Initialize the library.\n",
        "ee.Initialize()"
      ],
      "metadata": {
        "colab": {
          "base_uri": "https://localhost:8080/"
        },
        "id": "SBeU2mkauRD3",
        "outputId": "443f51e5-75c0-41e8-a42e-6a67411da53f"
      },
      "execution_count": 3,
      "outputs": [
        {
          "output_type": "stream",
          "name": "stdout",
          "text": [
            "To authorize access needed by Earth Engine, open the following URL in a web browser and follow the instructions. If the web browser does not start automatically, please manually browse the URL below.\n",
            "\n",
            "    https://code.earthengine.google.com/client-auth?scopes=https%3A//www.googleapis.com/auth/earthengine%20https%3A//www.googleapis.com/auth/devstorage.full_control&request_id=g9DyPsgSKS3rH7jnt1dl7mSqry9uCa8e6kauDAQJUDw&tc=Nw3sGOXoO_7hYTYsypYoCPhy9CjbDrA9U-YdphinHR4&cc=3o3-YX-3oKX2taleyayW_jzOYuNDnrmCYtDASel2ky0\n",
            "\n",
            "The authorization workflow will generate a code, which you should paste in the box below. \n",
            "Enter verification code: 4/1AX4XfWh-omVm_88lhXeB_dipE8059fITXIYJ_J3Smh5nPod0h1aPqHs1qmY\n",
            "\n",
            "Successfully saved authorization token.\n"
          ]
        }
      ]
    },
    {
      "cell_type": "code",
      "source": [
        "# Mount google drive (or click in left panel)\n",
        "from google.colab import drive\n",
        "drive.mount('/content/drive')"
      ],
      "metadata": {
        "colab": {
          "base_uri": "https://localhost:8080/"
        },
        "id": "5cbpZTeMuTUz",
        "outputId": "b138306a-d2e5-4e68-a6db-9c7b719bf8f5"
      },
      "execution_count": 4,
      "outputs": [
        {
          "output_type": "stream",
          "name": "stdout",
          "text": [
            "Mounted at /content/drive\n"
          ]
        }
      ]
    },
    {
      "cell_type": "code",
      "source": [
        "# Set directories and create new folder as source directory for R analyses\n",
        "proj_dir = '/content/drive/MyDrive/2Pew ACEC/Pew_ACEC'\n",
        "data_dir = os.path.join(proj_dir, 'data')\n",
        "source_dir = os.path.join(data_dir, 'source')    \n",
        "working_dir = os.path.join(data_dir, 'working')  \n",
        "\n",
        "\n",
        "# Create the directories if they didn't exist before\n",
        "try:\n",
        "      os.mkdir(source_dir)\n",
        "except FileExistsError: # Found this error name by trying to run.\n",
        "     print('That directory already exists. Not creating it.')\n",
        "\n",
        "try:\n",
        "      os.mkdir(working_dir)\n",
        "except FileExistsError: # Found this error name by trying to run.\n",
        "     print('That directory already exists. Not creating it.')\n",
        "\n",
        "\n",
        "# Set this as the working directory\n",
        "os.chdir(working_dir)\n",
        "print(\"This is your working data directory:\",os.getcwd())\n",
        "# print(et.io.HOME)\n",
        "\n",
        "# What's inside of the full directory? Call globe module w/in glob package\n",
        "# Says look at stuff (second *) that's within the stuff (first *) within the directory.\n",
        "list = glob.glob(os.path.join(data_dir,\"*\",\"*\"))\n",
        "list"
      ],
      "metadata": {
        "id": "e-aYYPVFt85Y",
        "colab": {
          "base_uri": "https://localhost:8080/"
        },
        "outputId": "1d5c073d-e755-4430-9249-80724857eca8"
      },
      "execution_count": 5,
      "outputs": [
        {
          "output_type": "stream",
          "name": "stdout",
          "text": [
            "That directory already exists. Not creating it.\n",
            "That directory already exists. Not creating it.\n",
            "This is your working data directory: /content/drive/MyDrive/2Pew ACEC/Pew_ACEC/data/working\n"
          ]
        },
        {
          "output_type": "execute_result",
          "data": {
            "text/plain": [
              "['/content/drive/MyDrive/2Pew ACEC/Pew_ACEC/data/BLM_National_ACEC/acec.gdb',\n",
              " '/content/drive/MyDrive/2Pew ACEC/Pew_ACEC/data/BLM_National_ACEC/ACEC Designated Polygons.lyr',\n",
              " '/content/drive/MyDrive/2Pew ACEC/Pew_ACEC/data/BLM_National_ACEC/ACEC_DataDictionary.pdf',\n",
              " '/content/drive/MyDrive/2Pew ACEC/Pew_ACEC/data/BLM_National_ACEC/BLM_National_ACEC.xml',\n",
              " '/content/drive/MyDrive/2Pew ACEC/Pew_ACEC/data/RockSpringsFO_Wyo/audiba_WY_20150818',\n",
              " '/content/drive/MyDrive/2Pew ACEC/Pew_ACEC/data/RockSpringsFO_Wyo/Elk_WY_SouthWindRiver_Routes',\n",
              " '/content/drive/MyDrive/2Pew ACEC/Pew_ACEC/data/RockSpringsFO_Wyo/RedDesert-LittleSandyLandscape',\n",
              " '/content/drive/MyDrive/2Pew ACEC/Pew_ACEC/data/RockSpringsFO_Wyo/BigSandy',\n",
              " '/content/drive/MyDrive/2Pew ACEC/Pew_ACEC/data/working/amph.tif',\n",
              " '/content/drive/MyDrive/2Pew ACEC/Pew_ACEC/data/working/mamm.tif',\n",
              " '/content/drive/MyDrive/2Pew ACEC/Pew_ACEC/data/working/rept.tif',\n",
              " '/content/drive/MyDrive/2Pew ACEC/Pew_ACEC/data/working/bird.tif',\n",
              " '/content/drive/MyDrive/2Pew ACEC/Pew_ACEC/data/working/oilgas.tif',\n",
              " '/content/drive/MyDrive/2Pew ACEC/Pew_ACEC/data/working/amph.v2.tif',\n",
              " '/content/drive/MyDrive/2Pew ACEC/Pew_ACEC/data/working/oilgas.v2.tif',\n",
              " '/content/drive/MyDrive/2Pew ACEC/Pew_ACEC/data/working/oilgas5k6cellmean270mnorm_PAs0UrbH20.tif',\n",
              " '/content/drive/MyDrive/2Pew ACEC/Pew_ACEC/data/working/test.tif',\n",
              " '/content/drive/MyDrive/2Pew ACEC/Pew_ACEC/data/working/windprobi_lt30pslope_ddpowerline4normPAs0UrbH20MULT.tif',\n",
              " '/content/drive/MyDrive/2Pew ACEC/Pew_ACEC/data/working/div_ergo_lth270mnorm.tif',\n",
              " '/content/drive/MyDrive/2Pew ACEC/Pew_ACEC/data/working/ecorarityaggto270norm.tif',\n",
              " '/content/drive/MyDrive/2Pew ACEC/Pew_ACEC/data/working/gapdiv270mnorm.tif',\n",
              " '/content/drive/MyDrive/2Pew ACEC/Pew_ACEC/data/working/georarity270mnorm.tif',\n",
              " '/content/drive/MyDrive/2Pew ACEC/Pew_ACEC/data/working/virrs2011.tif',\n",
              " '/content/drive/MyDrive/2Pew ACEC/Pew_ACEC/data/working/wateravail_allwater2.tif',\n",
              " '/content/drive/MyDrive/2Pew ACEC/Pew_ACEC/data/source/IBA_CONUS',\n",
              " '/content/drive/MyDrive/2Pew ACEC/Pew_ACEC/data/source/sagegrouse']"
            ]
          },
          "metadata": {},
          "execution_count": 5
        }
      ]
    },
    {
      "cell_type": "code",
      "source": [
        "# Grab today\n",
        "today = datetime.today().strftime('%Y-%m-%d')\n",
        "print(today)"
      ],
      "metadata": {
        "colab": {
          "base_uri": "https://localhost:8080/"
        },
        "id": "pb3MMdLmuimn",
        "outputId": "98b7bcc7-0d68-4829-d4ae-5fc3eea9895a"
      },
      "execution_count": 6,
      "outputs": [
        {
          "output_type": "stream",
          "name": "stdout",
          "text": [
            "2022-06-07\n"
          ]
        }
      ]
    },
    {
      "cell_type": "markdown",
      "source": [
        "# **Get AOI and indicator data**"
      ],
      "metadata": {
        "id": "Zph4pTVyzhMa"
      }
    },
    {
      "cell_type": "code",
      "source": [
        "# Load PADUS and retain only BLM lands; holding types are stored as separate layers.\n",
        "# ref: https://www.usgs.gov/programs/gap-analysis-project/pad-us-data-manual\n",
        "# Confirmed elsewhere that SHAPE_Area is indeed square meters.\n",
        "sqm_in_sqkm = 1000000\n",
        "padus_desig = ee.FeatureCollection(\"USGS/GAP/PAD-US/v20/designation\").filter(\"Mang_Name == 'BLM'\")\n",
        "padus_ease = ee.FeatureCollection(\"USGS/GAP/PAD-US/v20/easement\").filter(\"Mang_Name == 'BLM'\")\n",
        "padus_fee = ee.FeatureCollection(\"USGS/GAP/PAD-US/v20/fee\").filter(\"Mang_Name == 'BLM'\")\n",
        "padus_proc = ee.FeatureCollection(\"USGS/GAP/PAD-US/v20/proclamation\").filter(\"Mang_Name == 'BLM'\")\n",
        "\n",
        "\n",
        "# Combine into a single layer and set equal to 1, b/c can't clip a feauture collection.\n",
        "blm = padus_desig.merge(padus_ease.merge(padus_fee.merge(padus_proc)))\n",
        "blm1 = ee.Image.constant(1).toInt().clipToCollection(blm)\n",
        "\n",
        "\n",
        "# Select western states; put states to retain in list then filter on that list.\n",
        "keeps = ee.List(['Washington', 'Oregon', 'California', 'Idaho', 'Montana', 'Wyoming',\n",
        "               'Nevada', 'Utah', 'Colorado', 'Arizona', 'New Mexico'])\n",
        "west = ee.FeatureCollection(\"TIGER/2018/States\").filter(ee.Filter.inList('NAME', keeps))\n",
        "# Create mask (val = 1) of states, as updateMask won't accept feauture collection.\n",
        "west1 = ee.Image.constant(1).toInt().clipToCollection(west)\n",
        "# pprint(keeps.getInfo())\n",
        "\n",
        "\n",
        "# Retain only blm in western US. \n",
        "# Trial and error:\n",
        "# -area for image clipping must not be an image (ie west1)\n",
        "# -updateMask won't take a feauture collection (ie west)\n",
        "# -featureCollections have no attribute clip, so can't clip blm; must be blm1\n",
        "blm_west = blm1.clipToCollection(west).updateMask(west1)\n",
        "# Alt:\n",
        "# blm_west = blm1.clip(west).updateMask(west1)\n",
        "\n",
        "# # Map it (takes LONG time to load)\n",
        "# map = geemap.Map(center=[40,-100], zoom=4)\n",
        "# map.addLayer(west1, name = \"west\", shown = True, opacity = 1)\n",
        "# map.addLayer(blm_west, name = \"blm_west\", shown = True, opacity = 1)\n",
        "# map"
      ],
      "metadata": {
        "id": "XhWf5roOgdYV"
      },
      "execution_count": 8,
      "outputs": []
    },
    {
      "cell_type": "code",
      "source": [
        "# Most indicators are already pulled from prior ACEC efforts from NAU Hub.\n",
        "# Here, grab indiators on GEE and clipi to western US.\n",
        "amph = ee.Image('projects/GEE_CSP/Pew-ACEC/gap_amphib_richness_habitat30m').clip(west)\n",
        "bird = ee.Image('projects/GEE_CSP/Pew-ACEC/gap_bird_richness_habitat30m').clip(west)\n",
        "mamm = ee.Image('projects/GEE_CSP/Pew-ACEC/gap_mammal_richness_habitat30m').clip(west)\n",
        "rept = ee.Image('projects/GEE_CSP/Pew-ACEC/gap_reptile_richness_habitat30m').clip(west)\n",
        "\n"
      ],
      "metadata": {
        "id": "S1tBQDIbTTdb"
      },
      "execution_count": 9,
      "outputs": []
    },
    {
      "cell_type": "code",
      "source": [
        "climAccess = ee.Image('projects/GEE_CSP/thirty-by-thirty/aw_climate_resilience').clip(west)\n",
        "climStab = ee.Image('projects/GEE_CSP/thirty-by-thirty/aw_climate_stability').clip(west)\n",
        "conn = ee.Image('projects/GEE_CSP/thirty-by-thirty/conus_connectivity').clip(west)\n",
        "intact = ee.Image('projects/GEE_CSP/thirty-by-thirty/conus_intactness').clip(west)\n",
        "\n",
        "# Turn on/off\n",
        "# var = climAccess\n",
        "# var = climStab\n",
        "# var = conn\n",
        "# var = intact\n",
        "\n",
        "\n",
        "# Pull min/max value\n",
        "minMax = var.reduceRegion(reducer = ee.Reducer.minMax(),\n",
        "                           geometry = west.geometry(),\n",
        "                           scale = 270,\n",
        "                           maxPixels = 1e11)\n",
        "# minMax.getInfo()\n",
        "# Anchor values on min and max (only one band: b1)\n",
        "varNorm = var.select('b1') \\\n",
        "          .unitScale(minMax.get('b1_min'),minMax.get('b1_max'))\n",
        "# Grab projection details for export parameters\n",
        "projection = varNorm.projection().getInfo()\n",
        "projection\n",
        "\n"
      ],
      "metadata": {
        "id": "PN7Bx4CgPcgv"
      },
      "execution_count": null,
      "outputs": []
    },
    {
      "cell_type": "code",
      "source": [
        "# RCMAP for annual grasses -- but I think this is already on 0-100 so scale so there may be no need to normalize\n",
        "# https://code.earthengine.google.com/?scriptPath=Examples%3ADatasets%2FUSGS_NLCD_RELEASES_2019_REL_RCMAP_V4_COVER\n",
        "\n",
        "# >1 band\n",
        "\n",
        "var = invasive\n",
        "\n",
        "invasive = ee.ImageCollection('USGS/NLCD_RELEASES/2019_REL/RCMAP/V4/COVER') \\\n",
        "          .filter(ee.Filter.eq('system:index', '2016')).first() \\\n",
        "          .select('rangeland_annual_herbaceous') \\\n",
        "          .clip(west)\n",
        "\n",
        "# print('Bands:', invasive.bandNames());\n",
        "\n",
        "# Pull min/max value\n",
        "minMax = var.reduceRegion(reducer = ee.Reducer.minMax(),\n",
        "                           geometry = west.geometry(),\n",
        "                           scale = 270,\n",
        "                           maxPixels = 1e11)\n",
        "# minMax.getInfo()\n",
        "# Anchor values on min and max (of target band)\n",
        "varNorm = var.select('rangeland_annual_herbaceous') \\\n",
        "          .unitScale(minMax.get('rangeland_annual_herbaceous_min'),minMax.get('rangeland_annual_herbaceous_max'))\n",
        "# Grab projection details for export parameters\n",
        "projection = varNorm.projection().getInfo()\n",
        "projection\n"
      ],
      "metadata": {
        "id": "q_skjaqRAhe8"
      },
      "execution_count": null,
      "outputs": []
    },
    {
      "cell_type": "code",
      "source": [
        "# Export but change description name\n",
        "task = ee.batch.Export.image.toDrive(**{\n",
        "    'image': var,\n",
        "    'description': 'climAccessNorm', ######## CHANGE ME ########\n",
        "    'folder': 'working', # even tho its wd, need to specify else ends up in gen Drive folder\n",
        "    'scale': 1000, #1 km2 pixels\n",
        "    'crs': projection['wkt'],\n",
        "    'crsTransform': projection['transform'],\n",
        "    'region': west.geometry()\n",
        "})\n",
        "task.start()\n",
        "\n",
        "\n",
        "# # Viz for climAccess example\n",
        "# visClim = {\n",
        "#   'min':-40,\n",
        "#   'max':0,\n",
        "#   'palette': ['blue', 'yellow']\n",
        "# }\n",
        "\n",
        "# visClimNorm = {\n",
        "#   'min':0,\n",
        "#   'max':1,\n",
        "#   'palette': ['blue', 'orange']\n",
        "# }\n",
        "\n",
        "# # # Map it\n",
        "# map = geemap.Map(center=[40,-100], zoom=4)\n",
        "# map.addLayer(var, visClim, name = \"climate access\", shown = True, opacity = 1)\n",
        "# map.addLayer(varNorm, visClimNorm, name = \"climate acccess norm\", shown = True, opacity = 1)\n",
        "# map\n"
      ],
      "metadata": {
        "id": "BgrtkjkE1psI"
      },
      "execution_count": null,
      "outputs": []
    },
    {
      "cell_type": "code",
      "source": [
        "# Export to Drive\n",
        "\n",
        "#### READ THIS ####\n",
        "# https://developers.google.com/earth-engine/guides/exporting\n",
        "\n",
        "\n",
        "task = ee.batch.Export.image.toDrive(**{\n",
        "    'image': amph,\n",
        "    'description': 'amph',\n",
        "    'folder': 'working', # even tho its wd, need to specify else ends up in gen Drive folder\n",
        "    'scale': 1000, #1 km2 pixels\n",
        "    'region': west.geometry()\n",
        "    # 'crs': 'epsg:42303' # This never seems to work.\n",
        "})\n",
        "task.start()\n",
        "\n",
        "# This doesn't work either...\n",
        "# projCrs = ee.Projection('EPSG:42303').atScale(270)\n",
        "# test = amph.reduceResolution(ee.Reducer.mode()).reproject(projCrs)\n",
        "\n",
        "\n",
        "task = ee.batch.Export.image.toDrive(**{\n",
        "    'image': bird,\n",
        "    'description': 'bird',\n",
        "    'folder': 'working', # even tho its wd, need to specify else ends up in gen Drive folder\n",
        "    'scale': 1000, #1 km2 pixels\n",
        "    'region': west.geometry(),\n",
        "})\n",
        "task.start()\n",
        "\n",
        "\n",
        "task = ee.batch.Export.image.toDrive(**{\n",
        "    'image': mamm,\n",
        "    'description': 'mamm',\n",
        "    'folder': 'working', # even tho its wd, need to specify else ends up in gen Drive folder\n",
        "    'scale': 1000, #1 km2 pixels\n",
        "    'region': west.geometry(),\n",
        "})\n",
        "task.start()\n",
        "\n",
        "task = ee.batch.Export.image.toDrive(**{\n",
        "    'image': rept,\n",
        "    'description': 'rept',\n",
        "    'folder': 'working', # even tho its wd, need to specify else ends up in gen Drive folder\n",
        "    'scale': 1000, #1 km2 pixels\n",
        "    'region': west.geometry(),\n",
        "})\n",
        "task.start()\n",
        "\n",
        "task = ee.batch.Export.image.toDrive(**{\n",
        "    'image': oilgas,\n",
        "    'description': 'oilgas',\n",
        "    'folder': 'working', # even tho its wd, need to specify else ends up in gen Drive folder\n",
        "    'scale': 1000, #1 km2 pixels\n",
        "    'region': west.geometry(),\n",
        "})\n",
        "task.start()\n",
        "\n",
        "task = ee.batch.Export.image.toDrive(**{\n",
        "    'image': blm_west,\n",
        "    'description': 'blm_west',\n",
        "    'folder': 'working', # even tho its wd, need to specify else ends up in gen Drive folder\n",
        "    'scale': 100, #100x100 m pixels\n",
        "    'region': west.geometry(),\n",
        "})\n",
        "task.start()\n",
        "\n",
        "# # Export the FeatureCollection.\n",
        "# task = ee.batch.Export.table.toDrive(**{\n",
        "#   'collection': ynp,\n",
        "#   'description':'yellowstone',\n",
        "#   'folder': 'colab_scratch', \n",
        "#   'fileFormat': 'SHP'\n",
        "# })\n",
        "# task.start()"
      ],
      "metadata": {
        "id": "7mg-1wvZUqh9"
      },
      "execution_count": null,
      "outputs": []
    },
    {
      "cell_type": "code",
      "source": [
        "# task = ee.batch.Export.image.toDrive(**{\n",
        "#     'image': amph,\n",
        "#     'description': 'amph2',\n",
        "#     'folder': 'working', # even tho its wd, need to specify else ends up in gen Drive folder\n",
        "#     'scale': 1000, #1 km2 pixels\n",
        "#     'region': west.geometry(),\n",
        "#     'crs': 'epsg:4326' # WORKS!!\n",
        "# })\n",
        "# task.start()\n",
        "\n",
        "task = ee.batch.Export.image.toDrive(**{\n",
        "    'image': amph,\n",
        "    'description': 'amph3',\n",
        "    'folder': 'working', # even tho its wd, need to specify else ends up in gen Drive folder\n",
        "    'scale': 1000, #1 km2 pixels\n",
        "    'region': west.geometry(),\n",
        "    'crs': 'epsg:4269' \n",
        "})\n",
        "task.start()"
      ],
      "metadata": {
        "id": "3wkeGbFasHP2"
      },
      "execution_count": null,
      "outputs": []
    },
    {
      "cell_type": "code",
      "source": [
        "# FAIL\n",
        "\n",
        "task = ee.batch.Export.image.toDrive(**{\n",
        "    'image': blm_west,\n",
        "    'description': 'blm_west',\n",
        "    'folder': 'working', # even tho its wd, need to specify else ends up in gen Drive folder\n",
        "    'scale': 1000, #100x100 m pixels\n",
        "    'region': west.geometry(),\n",
        "})\n",
        "task.start()\n",
        "\n",
        "# Fail: Error: Unable to transform geometry to pixel grid. (Error code: 3)\n",
        "# Even if I do this first: blm_west = blm_west.clip(west)\n"
      ],
      "metadata": {
        "id": "iNckgFWOnMzS"
      },
      "execution_count": null,
      "outputs": []
    },
    {
      "cell_type": "code",
      "source": [
        "# # Mask land cover values so that only PADUS is retained. nb landcov is only lower 48. Not sure why but mask after clip.\n",
        "# # \"Updates an image's mask at all positions where the existing mask is not zero. The output image retains the metadata and footprint of the input image.\"\n",
        "# # ^ This GEE explanation suggests that maybe there's already a mask associated with the original layer. I want that mask to NOT include non-PADUS stuff.\n",
        "# lc = ee.Image(\"projects/GEE_CSP/Pew-ACEC/nat_landcov_l48_eslf_v3_5_2018\").clip(padus).updateMask(padus1)\n",
        "\n",
        "\n",
        "# # Get information about the bands as a list.\n",
        "# import pprint\n",
        "# pprint.pprint(lc.getInfo())\n",
        "# band_names = lc.bandNames()\n",
        "# print('Band names:', band_names.getInfo())  # ee.List of band names\n",
        "\n",
        "\n",
        "# # # It's still so giant, try reducing.\n",
        "# # lc_red = lc.reduceNeighborhood()\n",
        "# # var texture = naipNDVI.reduceNeighborhood({\n",
        "# #   reducer: ee.Reducer.stdDev(),\n",
        "# #   kernel: ee.Kernel.circle(7),\n",
        "# # });\n",
        "\n",
        "\n",
        "\n",
        "\n",
        "# # visLC = {\n",
        "# #   'min':3000,\n",
        "# #   'max':9000,\n",
        "# #   'palette': ['red','yellow','blue']\n",
        "# # }\n",
        "\n",
        "# # map = geemap.Map(center=[40,-100], zoom=4)\n",
        "# # # map.addLayer(padus, {'color':'purple'}, name = \"fee\", shown = True, opacity = 0.5)\n",
        "# # map.addLayer(lc, visLC, name = \"land cover\", shown = True, opacity = 1)\n",
        "# # map\n",
        "\n"
      ],
      "metadata": {
        "id": "Umjl0XhBGor9",
        "colab": {
          "base_uri": "https://localhost:8080/",
          "height": 235
        },
        "outputId": "4ef71c7d-0e92-49a6-94ae-a96374309304"
      },
      "execution_count": null,
      "outputs": [
        {
          "output_type": "error",
          "ename": "NameError",
          "evalue": "ignored",
          "traceback": [
            "\u001b[0;31m---------------------------------------------------------------------------\u001b[0m",
            "\u001b[0;31mNameError\u001b[0m                                 Traceback (most recent call last)",
            "\u001b[0;32m<ipython-input-10-e0cf007e9ece>\u001b[0m in \u001b[0;36m<module>\u001b[0;34m()\u001b[0m\n\u001b[1;32m      2\u001b[0m \u001b[0;31m# \"Updates an image's mask at all positions where the existing mask is not zero. The output image retains the metadata and footprint of the input image.\"\u001b[0m\u001b[0;34m\u001b[0m\u001b[0;34m\u001b[0m\u001b[0;34m\u001b[0m\u001b[0m\n\u001b[1;32m      3\u001b[0m \u001b[0;31m# ^ This GEE explanation suggests that maybe there's already a mask associated with the original layer. I want that mask to NOT include non-PADUS stuff.\u001b[0m\u001b[0;34m\u001b[0m\u001b[0;34m\u001b[0m\u001b[0;34m\u001b[0m\u001b[0m\n\u001b[0;32m----> 4\u001b[0;31m \u001b[0mlc\u001b[0m \u001b[0;34m=\u001b[0m \u001b[0mee\u001b[0m\u001b[0;34m.\u001b[0m\u001b[0mImage\u001b[0m\u001b[0;34m(\u001b[0m\u001b[0;34m\"projects/GEE_CSP/Pew-ACEC/nat_landcov_l48_eslf_v3_5_2018\"\u001b[0m\u001b[0;34m)\u001b[0m\u001b[0;34m.\u001b[0m\u001b[0mclip\u001b[0m\u001b[0;34m(\u001b[0m\u001b[0mpadus\u001b[0m\u001b[0;34m)\u001b[0m\u001b[0;34m.\u001b[0m\u001b[0mupdateMask\u001b[0m\u001b[0;34m(\u001b[0m\u001b[0mpadus1\u001b[0m\u001b[0;34m)\u001b[0m\u001b[0;34m\u001b[0m\u001b[0;34m\u001b[0m\u001b[0m\n\u001b[0m\u001b[1;32m      5\u001b[0m \u001b[0;34m\u001b[0m\u001b[0m\n\u001b[1;32m      6\u001b[0m \u001b[0;34m\u001b[0m\u001b[0m\n",
            "\u001b[0;31mNameError\u001b[0m: name 'padus' is not defined"
          ]
        }
      ]
    },
    {
      "cell_type": "code",
      "source": [
        "from geemap.common import connect_postgis\n",
        "# Get global human mod and clip to AOI around Castner Range defined by this retangle\n",
        "bb = ee.Geometry.Rectangle(-103, 29, -109,  35)\n",
        "hm = ee.ImageCollection(\"CSP/HM/GlobalHumanModification\").first() # Select the first (only) image in the collection\n",
        "hm_clip = hm.clip(bb) # Only an image can be clipped\n",
        "\n",
        "conn = ee.Image(\"projects/GEE_CSP/thirty-by-thirty/conus_connectivity\")\n",
        "conn_clip = conn.clip(bb)\n",
        "\n",
        "# GEE\n",
        "map = geemap.Map(center=[30,-106], zoom=6)\n",
        "\n",
        "visHM = {\n",
        "  'min':0,\n",
        "  'max':1,\n",
        "  'palette': ['blue', 'green', 'yellow', 'red']\n",
        "}\n",
        "\n",
        "visConn = {\n",
        "  'min':0,\n",
        "  'max':48734,\n",
        "  'palette': ['blue', 'green', 'yellow', 'red']\n",
        "}\n",
        "\n",
        "# map.addLayer(hm, visHM, 'global human mod', True, 1)\n",
        "map.addLayer(conn_clip, visConn, 'Connectivity', True, 1)\n",
        "# map.addLayer(bb, {'color':'purple'}, name = \"BB\", shown = True, opacity = 0.8)\n",
        "\n",
        "map"
      ],
      "metadata": {
        "id": "s0tNBbagQ2cv"
      },
      "execution_count": null,
      "outputs": []
    },
    {
      "cell_type": "code",
      "source": [
        "# task = ee.batch.Export.image.toDrive(**{\n",
        "#     'image': hm_clip,\n",
        "#     'description': 'hmClip',\n",
        "#     'folder': 'colab_scratch', \n",
        "#     'scale': 1000, #1 km pixels\n",
        "#     'region': bb\n",
        "# })\n",
        "# task.start()\n",
        "\n",
        "\n",
        "task = ee.batch.Export.image.toDrive(**{\n",
        "    'image': conn_clip,\n",
        "    'description': 'connClip',\n",
        "    'folder': 'colab_scratch', \n",
        "    'scale': 1000, #1 km pixels\n",
        "    'region': bb\n",
        "})\n",
        "task.start()"
      ],
      "metadata": {
        "id": "_o8Buejxa_8a"
      },
      "execution_count": null,
      "outputs": []
    }
  ]
}