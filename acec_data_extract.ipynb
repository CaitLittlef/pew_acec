{
  "nbformat": 4,
  "nbformat_minor": 0,
  "metadata": {
    "colab": {
      "name": "acec_data_extract.ipynb",
      "provenance": [],
      "collapsed_sections": [],
      "toc_visible": true,
      "authorship_tag": "ABX9TyMgEymeO05m7YVkDBImfFY/",
      "include_colab_link": true
    },
    "kernelspec": {
      "name": "python3",
      "display_name": "Python 3"
    },
    "language_info": {
      "name": "python"
    }
  },
  "cells": [
    {
      "cell_type": "markdown",
      "metadata": {
        "id": "view-in-github",
        "colab_type": "text"
      },
      "source": [
        "<a href=\"https://colab.research.google.com/github/CaitLittlef/pew_acec/blob/main/acec_data_extract.ipynb\" target=\"_parent\"><img src=\"https://colab.research.google.com/assets/colab-badge.svg\" alt=\"Open In Colab\"/></a>"
      ]
    },
    {
      "cell_type": "markdown",
      "source": [
        "# **Python/GEE set-up**"
      ],
      "metadata": {
        "id": "Xxrm19IRt2vx"
      }
    },
    {
      "cell_type": "code",
      "metadata": {
        "id": "5DyfMR1jmqEo"
      },
      "source": [
        "## Initializing\n",
        "\n",
        "!pip install geemap   \n",
        "# !pip install rasterio\n",
        "# !pip install geopandas\n",
        "# !pip install earthpy\n",
        "\n",
        "# # Installs geemap package\n",
        "# import subprocess\n",
        "\n",
        "# try:\n",
        "#     import geemap\n",
        "# except ImportError:\n",
        "#     print('geemap package not installed. Installing ...')\n",
        "#     subprocess.check_call([\"python\", '-m', 'pip', 'install', 'geemap'])\n",
        "\n",
        "# Import packages\n",
        "import os\n",
        "import glob\n",
        "\n",
        "\n",
        "import ee\n",
        "# import folium\n",
        "import geemap\n",
        "import matplotlib.pyplot as plt\n",
        "# import numpy as np\n",
        "# import pandas as pd\n",
        "# import rasterio as rio\n",
        "# import geopandas as gpd\n",
        "# import earthpy as et \n",
        "from tabulate import tabulate\n",
        "# from folium import plugins\n",
        "from random import seed\n",
        "from random import randint\n",
        "from pprint import pprint # tidy printing\n",
        "from datetime import datetime\n",
        "from ee.data import getInfo\n",
        "import pickle\n",
        "import statistics as st\n",
        "\n",
        "from ee.data import getInfo\n",
        "# If all you need to do is find out what's in the container, then just print() and inspect the result in the console.\n",
        "# If, for some reason, you need to use Python running in the client to manipulate whatever is in the container, then use getInfo() to get the contents of the container and assign it to a variable\n",
        "# Ref: https://developers.google.com/earth-engine/guides/client_server\n",
        "\n",
        "\n"
      ],
      "execution_count": null,
      "outputs": []
    },
    {
      "cell_type": "code",
      "source": [
        "# Trigger GEE authentication flow.\n",
        "ee.Authenticate()\n",
        "\n",
        "# Initialize the library.\n",
        "ee.Initialize()"
      ],
      "metadata": {
        "colab": {
          "base_uri": "https://localhost:8080/"
        },
        "id": "SBeU2mkauRD3",
        "outputId": "91174527-921b-4bda-d654-632a8d59be5d"
      },
      "execution_count": 2,
      "outputs": [
        {
          "output_type": "stream",
          "name": "stdout",
          "text": [
            "To authorize access needed by Earth Engine, open the following URL in a web browser and follow the instructions. If the web browser does not start automatically, please manually browse the URL below.\n",
            "\n",
            "    https://code.earthengine.google.com/client-auth?scopes=https%3A//www.googleapis.com/auth/earthengine%20https%3A//www.googleapis.com/auth/devstorage.full_control&request_id=0Hd5EXTAurgYY4PWGzE8s5dwrRCZW9KkcWfE2Pp-ulE&tc=klJvnfkGX-HUXHutePOAXb8eniJCmCsK6ey3vjO41lw&cc=xM_KKvgx29FmDcBGrFvj_0mV9d0WB5_GcOdOf3UEqLM\n",
            "\n",
            "The authorization workflow will generate a code, which you should paste in the box below. \n",
            "Enter verification code: 4/1AX4XfWgLFGHT_OLvwekivmc2wLmoFaTMvw4wGMhPUQvDnPFBgijwPanE4FM\n",
            "\n",
            "Successfully saved authorization token.\n"
          ]
        }
      ]
    },
    {
      "cell_type": "code",
      "source": [
        "# Mount google drive (or click in left panel)\n",
        "from google.colab import drive\n",
        "drive.mount('/content/drive')"
      ],
      "metadata": {
        "colab": {
          "base_uri": "https://localhost:8080/"
        },
        "id": "5cbpZTeMuTUz",
        "outputId": "752f8e62-857b-4a3e-9937-ce1c58246ec0"
      },
      "execution_count": 3,
      "outputs": [
        {
          "output_type": "stream",
          "name": "stdout",
          "text": [
            "Mounted at /content/drive\n"
          ]
        }
      ]
    },
    {
      "cell_type": "code",
      "source": [
        "# Set directories and create new folder as source directory for R analyses\n",
        "proj_dir = '/content/drive/MyDrive/2Pew ACEC/Pew_ACEC'\n",
        "data_dir = os.path.join(proj_dir, 'data')\n",
        "source_dir = os.path.join(data_dir, 'source')    \n",
        "working_dir = os.path.join(data_dir, 'working')  \n",
        "\n",
        "\n",
        "# Create the directories if they didn't exist before\n",
        "try:\n",
        "      os.mkdir(source_dir)\n",
        "except FileExistsError: # Found this error name by trying to run.\n",
        "     print('That directory already exists. Not creating it.')\n",
        "\n",
        "try:\n",
        "      os.mkdir(working_dir)\n",
        "except FileExistsError: # Found this error name by trying to run.\n",
        "     print('That directory already exists. Not creating it.')\n",
        "\n",
        "\n",
        "# Set this as the working directory\n",
        "os.chdir(working_dir)\n",
        "print(\"This is your working data directory:\",os.getcwd())\n",
        "# print(et.io.HOME)\n",
        "\n",
        "# What's inside of the full directory? Call globe module w/in glob package\n",
        "# Says look at stuff (second *) that's within the stuff (first *) within the directory.\n",
        "list = glob.glob(os.path.join(data_dir,\"*\",\"*\"))\n",
        "list"
      ],
      "metadata": {
        "id": "e-aYYPVFt85Y",
        "colab": {
          "base_uri": "https://localhost:8080/"
        },
        "outputId": "7b929a8e-1823-4cc6-b12b-4d3e462e4b36"
      },
      "execution_count": 4,
      "outputs": [
        {
          "output_type": "stream",
          "name": "stdout",
          "text": [
            "That directory already exists. Not creating it.\n",
            "That directory already exists. Not creating it.\n",
            "This is your working data directory: /content/drive/MyDrive/2Pew ACEC/Pew_ACEC/data/working\n"
          ]
        },
        {
          "output_type": "execute_result",
          "data": {
            "text/plain": [
              "['/content/drive/MyDrive/2Pew ACEC/Pew_ACEC/data/BLM_National_ACEC/acec.gdb',\n",
              " '/content/drive/MyDrive/2Pew ACEC/Pew_ACEC/data/BLM_National_ACEC/ACEC Designated Polygons.lyr',\n",
              " '/content/drive/MyDrive/2Pew ACEC/Pew_ACEC/data/BLM_National_ACEC/ACEC_DataDictionary.pdf',\n",
              " '/content/drive/MyDrive/2Pew ACEC/Pew_ACEC/data/BLM_National_ACEC/BLM_National_ACEC.xml',\n",
              " '/content/drive/MyDrive/2Pew ACEC/Pew_ACEC/data/RockSpringsFO_Wyo/audiba_WY_20150818',\n",
              " '/content/drive/MyDrive/2Pew ACEC/Pew_ACEC/data/RockSpringsFO_Wyo/Elk_WY_SouthWindRiver_Routes',\n",
              " '/content/drive/MyDrive/2Pew ACEC/Pew_ACEC/data/RockSpringsFO_Wyo/RedDesert-LittleSandyLandscape',\n",
              " '/content/drive/MyDrive/2Pew ACEC/Pew_ACEC/data/RockSpringsFO_Wyo/BigSandy',\n",
              " '/content/drive/MyDrive/2Pew ACEC/Pew_ACEC/data/working/amph.tif',\n",
              " '/content/drive/MyDrive/2Pew ACEC/Pew_ACEC/data/working/mamm.tif',\n",
              " '/content/drive/MyDrive/2Pew ACEC/Pew_ACEC/data/working/rept.tif',\n",
              " '/content/drive/MyDrive/2Pew ACEC/Pew_ACEC/data/working/bird.tif',\n",
              " '/content/drive/MyDrive/2Pew ACEC/Pew_ACEC/data/working/oilgas5k6cellmean270mnorm_PAs0UrbH20.tif',\n",
              " '/content/drive/MyDrive/2Pew ACEC/Pew_ACEC/data/working/windprobi_lt30pslope_ddpowerline4normPAs0UrbH20MULT.tif',\n",
              " '/content/drive/MyDrive/2Pew ACEC/Pew_ACEC/data/working/div_ergo_lth270mnorm.tif',\n",
              " '/content/drive/MyDrive/2Pew ACEC/Pew_ACEC/data/working/ecorarityaggto270norm.tif',\n",
              " '/content/drive/MyDrive/2Pew ACEC/Pew_ACEC/data/working/gapdiv270mnorm.tif',\n",
              " '/content/drive/MyDrive/2Pew ACEC/Pew_ACEC/data/working/georarity270mnorm.tif',\n",
              " '/content/drive/MyDrive/2Pew ACEC/Pew_ACEC/data/working/virrs2011.tif',\n",
              " '/content/drive/MyDrive/2Pew ACEC/Pew_ACEC/data/working/wateravail_allwater2.tif',\n",
              " '/content/drive/MyDrive/2Pew ACEC/Pew_ACEC/data/working/climAccess.tif',\n",
              " '/content/drive/MyDrive/2Pew ACEC/Pew_ACEC/data/source/IBA_CONUS',\n",
              " '/content/drive/MyDrive/2Pew ACEC/Pew_ACEC/data/source/sagegrouse']"
            ]
          },
          "metadata": {},
          "execution_count": 4
        }
      ]
    },
    {
      "cell_type": "code",
      "source": [
        "# Grab today\n",
        "today = datetime.today().strftime('%Y-%m-%d')\n",
        "print(today)"
      ],
      "metadata": {
        "colab": {
          "base_uri": "https://localhost:8080/"
        },
        "id": "pb3MMdLmuimn",
        "outputId": "92363c3a-4dca-43b1-fa7b-6d8bb3a002d9"
      },
      "execution_count": 5,
      "outputs": [
        {
          "output_type": "stream",
          "name": "stdout",
          "text": [
            "2022-06-09\n"
          ]
        }
      ]
    },
    {
      "cell_type": "markdown",
      "source": [
        "# **Get AOI and indicator data**"
      ],
      "metadata": {
        "id": "Zph4pTVyzhMa"
      }
    },
    {
      "cell_type": "code",
      "source": [
        "# Load PADUS and retain only BLM lands; holding types are stored as separate layers.\n",
        "# ref: https://www.usgs.gov/programs/gap-analysis-project/pad-us-data-manual\n",
        "# Confirmed elsewhere that SHAPE_Area is indeed square meters.\n",
        "sqm_in_sqkm = 1000000\n",
        "padus_desig = ee.FeatureCollection(\"USGS/GAP/PAD-US/v20/designation\").filter(\"Mang_Name == 'BLM'\")\n",
        "padus_ease = ee.FeatureCollection(\"USGS/GAP/PAD-US/v20/easement\").filter(\"Mang_Name == 'BLM'\")\n",
        "padus_fee = ee.FeatureCollection(\"USGS/GAP/PAD-US/v20/fee\").filter(\"Mang_Name == 'BLM'\")\n",
        "padus_proc = ee.FeatureCollection(\"USGS/GAP/PAD-US/v20/proclamation\").filter(\"Mang_Name == 'BLM'\")\n",
        "\n",
        "\n",
        "# Combine into a single layer and set equal to 1, b/c can't clip a feauture collection.\n",
        "blm = padus_desig.merge(padus_ease.merge(padus_fee.merge(padus_proc)))\n",
        "blm1 = ee.Image.constant(1).toInt().clipToCollection(blm)\n",
        "\n",
        "\n",
        "# Select western states; put states to retain in list then filter on that list.\n",
        "keeps = ee.List(['Washington', 'Oregon', 'California', 'Idaho', 'Montana', 'Wyoming',\n",
        "               'Nevada', 'Utah', 'Colorado', 'Arizona', 'New Mexico'])\n",
        "west = ee.FeatureCollection(\"TIGER/2018/States\").filter(ee.Filter.inList('NAME', keeps))\n",
        "# Create mask (val = 1) of states, as updateMask won't accept feauture collection.\n",
        "west1 = ee.Image.constant(1).toInt().clipToCollection(west)\n",
        "# pprint(keeps.getInfo())\n",
        "\n",
        "\n",
        "# Retain only blm in western US. \n",
        "# Trial and error:\n",
        "# -area for image clipping must not be an image (ie west1)\n",
        "# -updateMask won't take a feauture collection (ie west)\n",
        "# -featureCollections have no attribute clip, so can't clip blm; must be blm1\n",
        "blm_west = blm1.clipToCollection(west).updateMask(west1)\n",
        "# Alt:\n",
        "# blm_west = blm1.clip(west).updateMask(west1)\n",
        "\n",
        "# # Map it (takes LONG time to load)\n",
        "# map = geemap.Map(center=[40,-100], zoom=4)\n",
        "# map.addLayer(west1, name = \"west\", shown = True, opacity = 1)\n",
        "# map.addLayer(blm_west, name = \"blm_west\", shown = True, opacity = 1)\n",
        "# map\n",
        "\n",
        "# Grab projection details for export parameters\n",
        "projection = blm_west.projection().getInfo()\n",
        "projection\n",
        "\n",
        "# # Export. BUT THIS GIVES CRAZY COARSE RASTER?!?!!\n",
        "# task = ee.batch.Export.image.toDrive(**{\n",
        "#     'image': blm_west,\n",
        "#     'description': 'blm_west',\n",
        "#     'folder': 'working', # even tho its wd, need to specify else ends up in gen Drive folder\n",
        "#     'scale': 270, \n",
        "#     'crs': projection['crs'], # by contrast to other layers this has crs not wkt\n",
        "#     'crsTransform': projection['transform'],\n",
        "#     'region': west.geometry()\n",
        "# })\n",
        "# task.start()\n"
      ],
      "metadata": {
        "id": "XhWf5roOgdYV"
      },
      "execution_count": 34,
      "outputs": []
    },
    {
      "cell_type": "code",
      "source": [
        "blm_west = ee.Image(\"projects/GEE_CSP/thirty-by-thirty/blm_lands_mask\").clip(west)\n",
        "# Grab projection details for export parameters\n",
        "\n",
        "# Grab projection details for export parameters\n",
        "projection = blm_west.projection().getInfo()\n",
        "projection\n",
        "\n",
        "# Export but change description name\n",
        "task = ee.batch.Export.image.toDrive(**{\n",
        "    'image': blm_west,\n",
        "    'description': 'blm_west_v2',\n",
        "    'folder': 'working', # even tho its wd, need to specify else ends up in gen Drive folder\n",
        "    'scale': 270, \n",
        "    'crs': projection['crs'],\n",
        "    # 'crs': projection['wkt'],\n",
        "    'crsTransform': projection['transform'],\n",
        "    'region': west.geometry()\n",
        "})\n",
        "task.start()\n"
      ],
      "metadata": {
        "id": "CsF9UqdMA3-8"
      },
      "execution_count": 46,
      "outputs": []
    },
    {
      "cell_type": "code",
      "source": [
        "# Most indicators are already pulled from prior ACEC efforts from NAU Hub.\n",
        "# Here, grab indiators on GEE and clip to western US.\n",
        "amph = ee.Image('projects/GEE_CSP/Pew-ACEC/gap_amphib_richness_habitat30m').clip(west)\n",
        "bird = ee.Image('projects/GEE_CSP/Pew-ACEC/gap_bird_richness_habitat30m').clip(west)\n",
        "mamm = ee.Image('projects/GEE_CSP/Pew-ACEC/gap_mammal_richness_habitat30m').clip(west)\n",
        "rept = ee.Image('projects/GEE_CSP/Pew-ACEC/gap_reptile_richness_habitat30m').clip(west)\n",
        "\n",
        "# Cycle thru to export\n",
        "var = amph\n",
        "# var = bird\n",
        "# var = mamm\n",
        "# var = rept\n",
        "\n",
        "# Grab projection details for export parameters\n",
        "projection = var.projection().getInfo()\n",
        "projection\n",
        "\n",
        "# Export but change description name\n",
        "task = ee.batch.Export.image.toDrive(**{\n",
        "    'image': var,\n",
        "    'description': 'amph', ######## CHANGE ME ########\n",
        "    'folder': 'working', # even tho its wd, need to specify else ends up in gen Drive folder\n",
        "    'scale': 1000, #1 km2 pixels\n",
        "    'crs': projection['wkt'],\n",
        "    'crsTransform': projection['transform'],\n",
        "    'region': west.geometry()\n",
        "})\n",
        "task.start()"
      ],
      "metadata": {
        "id": "S1tBQDIbTTdb"
      },
      "execution_count": null,
      "outputs": []
    },
    {
      "cell_type": "code",
      "source": [
        "climAccess = ee.Image('projects/GEE_CSP/thirty-by-thirty/aw_climate_resilience').clip(west)\n",
        "climStab = ee.Image('projects/GEE_CSP/thirty-by-thirty/aw_climate_stability').clip(west)\n",
        "conn = ee.Image('projects/GEE_CSP/thirty-by-thirty/conus_connectivity').clip(west)\n",
        "intact = ee.Image('projects/GEE_CSP/thirty-by-thirty/conus_intactness').clip(west)\n",
        "impSppRich = ee.Image('projects/GEE_CSP/thirty-by-thirty/conus_imperiled_richness').clip(west)\n",
        "\n",
        "# Turn on/off\n",
        "# var = climAccess # b1, wkt\n",
        "# var = climStab # b1, wkt\n",
        "var = conn # b1, crs\n",
        "# var = intact # constant, crs\n",
        "# var = impSppRich\n",
        "\n",
        "\n",
        "# Pull min/max value\n",
        "minMax = var.reduceRegion(reducer = ee.Reducer.minMax(),\n",
        "                           geometry = west.geometry(),\n",
        "                           scale = 270,\n",
        "                           maxPixels = 1e11)\n",
        "# minMax.getInfo()\n",
        "# Anchor values on min and max (usu 1 band: 'b1' or 'constant')\n",
        "varNorm = var.select('b1') \\\n",
        "          .unitScale(minMax.get('b1_min'),minMax.get('b1_max'))\n",
        "# varNorm = var.select('constant') \\\n",
        "          # .unitScale(minMax.get('constant_min'),minMax.get('constant_max'))\n",
        "# Grab projection details for export parameters\n",
        "projection = varNorm.projection().getInfo()\n",
        "projection\n",
        "\n",
        "\n",
        "# Export but change description name\n",
        "task = ee.batch.Export.image.toDrive(**{\n",
        "    'image': var,\n",
        "    'description': 'connNorm', ######## CHANGE ME ########\n",
        "    'folder': 'working', # even tho its wd, need to specify else ends up in gen Drive folder\n",
        "    'scale': 1000, #1 km2 pixels\n",
        "    # 'crs': projection['wkt'], \n",
        "    'crs': projection['crs'], \n",
        "    'crsTransform': projection['transform'],\n",
        "    'region': west.geometry()\n",
        "})\n",
        "task.start()\n",
        "\n",
        "\n",
        "# # Viz for conn norm example\n",
        "# visVar = {\n",
        "#   'min':0,\n",
        "#   'max':10000,\n",
        "#   'palette': ['blue', 'yellow']\n",
        "# }\n",
        "\n",
        "# visVarNorm = {\n",
        "#   'min':0,\n",
        "#   'max':1,\n",
        "#   'palette': ['blue', 'orange']\n",
        "# }\n",
        "\n",
        "# # # Map it\n",
        "# map = geemap.Map(center=[40,-100], zoom=4)\n",
        "# map.addLayer(var, visVar, name = \"variable\", shown = True, opacity = 1)\n",
        "# map.addLayer(varNorm, visVarNorm, name = \"variable normalized\", shown = True, opacity = 1)\n",
        "# map"
      ],
      "metadata": {
        "id": "PN7Bx4CgPcgv"
      },
      "execution_count": 59,
      "outputs": []
    },
    {
      "cell_type": "code",
      "source": [
        "# RCMAP for annual grasses -- but I think this is already on 0-100 so scale so there may be no need to normalize\n",
        "# https://code.earthengine.google.com/?scriptPath=Examples%3ADatasets%2FUSGS_NLCD_RELEASES_2019_REL_RCMAP_V4_COVER\n",
        "\n",
        "# >1 band\n",
        "\n",
        "annHerb = ee.ImageCollection('USGS/NLCD_RELEASES/2019_REL/RCMAP/V4/COVER') \\\n",
        "          .filter(ee.Filter.eq('system:index', '2016')).first() \\\n",
        "          .select('rangeland_annual_herbaceous') \\\n",
        "          .clip(west)\n",
        "\n",
        "var = annHerb\n",
        "\n",
        "print('Bands:', invasive.bandNames());\n",
        "\n",
        "# Pull min/max value\n",
        "minMax = var.reduceRegion(reducer = ee.Reducer.minMax(),\n",
        "                           geometry = west.geometry(),\n",
        "                           scale = 270,\n",
        "                           maxPixels = 1e11)\n",
        "# minMax.getInfo()\n",
        "# Anchor values on min and max (of target band)\n",
        "varNorm = var.select('rangeland_annual_herbaceous') \\\n",
        "          .unitScale(minMax.get('rangeland_annual_herbaceous_min'),minMax.get('rangeland_annual_herbaceous_max'))\n",
        "# Grab projection details for export parameters\n",
        "projection = varNorm.projection().getInfo()\n",
        "projection\n",
        "\n",
        "\n",
        "# Export but change description name\n",
        "task = ee.batch.Export.image.toDrive(**{\n",
        "    'image': var,\n",
        "    'description': 'annHerbNorm', \n",
        "    'folder': 'working', # even tho its wd, need to specify else ends up in gen Drive folder\n",
        "    'scale': 1000, #1 km2 pixels\n",
        "    'crs': projection['wkt'],\n",
        "    'crsTransform': projection['transform'],\n",
        "    'region': west.geometry()\n",
        "})\n",
        "task.start()"
      ],
      "metadata": {
        "id": "q_skjaqRAhe8",
        "colab": {
          "base_uri": "https://localhost:8080/"
        },
        "outputId": "c52cd30f-135a-412e-e239-9f86b8044253"
      },
      "execution_count": 57,
      "outputs": [
        {
          "output_type": "stream",
          "name": "stdout",
          "text": [
            "Bands: ee.List({\n",
            "  \"functionInvocationValue\": {\n",
            "    \"functionName\": \"Image.bandNames\",\n",
            "    \"arguments\": {\n",
            "      \"image\": {\n",
            "        \"functionInvocationValue\": {\n",
            "          \"functionName\": \"Image.clip\",\n",
            "          \"arguments\": {\n",
            "            \"geometry\": {\n",
            "              \"functionInvocationValue\": {\n",
            "                \"functionName\": \"Collection.filter\",\n",
            "                \"arguments\": {\n",
            "                  \"collection\": {\n",
            "                    \"functionInvocationValue\": {\n",
            "                      \"functionName\": \"Collection.loadTable\",\n",
            "                      \"arguments\": {\n",
            "                        \"tableId\": {\n",
            "                          \"constantValue\": \"TIGER/2018/States\"\n",
            "                        }\n",
            "                      }\n",
            "                    }\n",
            "                  },\n",
            "                  \"filter\": {\n",
            "                    \"functionInvocationValue\": {\n",
            "                      \"functionName\": \"Filter.listContains\",\n",
            "                      \"arguments\": {\n",
            "                        \"leftValue\": {\n",
            "                          \"constantValue\": [\n",
            "                            \"Washington\",\n",
            "                            \"Oregon\",\n",
            "                            \"California\",\n",
            "                            \"Idaho\",\n",
            "                            \"Montana\",\n",
            "                            \"Wyoming\",\n",
            "                            \"Nevada\",\n",
            "                            \"Utah\",\n",
            "                            \"Colorado\",\n",
            "                            \"Arizona\",\n",
            "                            \"New Mexico\"\n",
            "                          ]\n",
            "                        },\n",
            "                        \"rightField\": {\n",
            "                          \"constantValue\": \"NAME\"\n",
            "                        }\n",
            "                      }\n",
            "                    }\n",
            "                  }\n",
            "                }\n",
            "              }\n",
            "            },\n",
            "            \"input\": {\n",
            "              \"functionInvocationValue\": {\n",
            "                \"functionName\": \"Image.select\",\n",
            "                \"arguments\": {\n",
            "                  \"bandSelectors\": {\n",
            "                    \"constantValue\": [\n",
            "                      \"rangeland_annual_herbaceous\"\n",
            "                    ]\n",
            "                  },\n",
            "                  \"input\": {\n",
            "                    \"functionInvocationValue\": {\n",
            "                      \"functionName\": \"Collection.first\",\n",
            "                      \"arguments\": {\n",
            "                        \"collection\": {\n",
            "                          \"functionInvocationValue\": {\n",
            "                            \"functionName\": \"Collection.filter\",\n",
            "                            \"arguments\": {\n",
            "                              \"collection\": {\n",
            "                                \"functionInvocationValue\": {\n",
            "                                  \"functionName\": \"ImageCollection.load\",\n",
            "                                  \"arguments\": {\n",
            "                                    \"id\": {\n",
            "                                      \"constantValue\": \"USGS/NLCD_RELEASES/2019_REL/RCMAP/V4/COVER\"\n",
            "                                    }\n",
            "                                  }\n",
            "                                }\n",
            "                              },\n",
            "                              \"filter\": {\n",
            "                                \"functionInvocationValue\": {\n",
            "                                  \"functionName\": \"Filter.equals\",\n",
            "                                  \"arguments\": {\n",
            "                                    \"leftField\": {\n",
            "                                      \"constantValue\": \"system:index\"\n",
            "                                    },\n",
            "                                    \"rightValue\": {\n",
            "                                      \"constantValue\": \"2016\"\n",
            "                                    }\n",
            "                                  }\n",
            "                                }\n",
            "                              }\n",
            "                            }\n",
            "                          }\n",
            "                        }\n",
            "                      }\n",
            "                    }\n",
            "                  }\n",
            "                }\n",
            "              }\n",
            "            }\n",
            "          }\n",
            "        }\n",
            "      }\n",
            "    }\n",
            "  }\n",
            "})\n"
          ]
        }
      ]
    },
    {
      "cell_type": "code",
      "source": [
        "# Export but change description name\n",
        "task = ee.batch.Export.image.toDrive(**{\n",
        "    'image': var,\n",
        "    'description': 'climAccessNorm', ######## CHANGE ME ########\n",
        "    'folder': 'working', # even tho its wd, need to specify else ends up in gen Drive folder\n",
        "    'scale': 1000, #1 km2 pixels\n",
        "    'crs': projection['wkt'],\n",
        "    'crsTransform': projection['transform'],\n",
        "    'region': west.geometry()\n",
        "})\n",
        "task.start()\n",
        "\n",
        "\n",
        "# # Viz for climAccess example\n",
        "# visClim = {\n",
        "#   'min':-40,\n",
        "#   'max':0,\n",
        "#   'palette': ['blue', 'yellow']\n",
        "# }\n",
        "\n",
        "# visClimNorm = {\n",
        "#   'min':0,\n",
        "#   'max':1,\n",
        "#   'palette': ['blue', 'orange']\n",
        "# }\n",
        "\n",
        "# # # Map it\n",
        "# map = geemap.Map(center=[40,-100], zoom=4)\n",
        "# map.addLayer(var, visClim, name = \"climate access\", shown = True, opacity = 1)\n",
        "# map.addLayer(varNorm, visClimNorm, name = \"climate acccess norm\", shown = True, opacity = 1)\n",
        "# map\n"
      ],
      "metadata": {
        "id": "BgrtkjkE1psI"
      },
      "execution_count": null,
      "outputs": []
    },
    {
      "cell_type": "code",
      "source": [
        "# Export to Drive\n",
        "\n",
        "#### READ THIS ####\n",
        "# https://developers.google.com/earth-engine/guides/exporting\n",
        "\n",
        "\n",
        "\n"
      ],
      "metadata": {
        "id": "7mg-1wvZUqh9"
      },
      "execution_count": null,
      "outputs": []
    },
    {
      "cell_type": "code",
      "source": [
        "# task = ee.batch.Export.image.toDrive(**{\n",
        "#     'image': amph,\n",
        "#     'description': 'amph2',\n",
        "#     'folder': 'working', # even tho its wd, need to specify else ends up in gen Drive folder\n",
        "#     'scale': 1000, #1 km2 pixels\n",
        "#     'region': west.geometry(),\n",
        "#     'crs': 'epsg:4326' # WORKS!!\n",
        "# })\n",
        "# task.start()\n",
        "\n",
        "task = ee.batch.Export.image.toDrive(**{\n",
        "    'image': amph,\n",
        "    'description': 'amph3',\n",
        "    'folder': 'working', # even tho its wd, need to specify else ends up in gen Drive folder\n",
        "    'scale': 1000, #1 km2 pixels\n",
        "    'region': west.geometry(),\n",
        "    'crs': 'epsg:4269' \n",
        "})\n",
        "task.start()"
      ],
      "metadata": {
        "id": "3wkeGbFasHP2"
      },
      "execution_count": null,
      "outputs": []
    },
    {
      "cell_type": "code",
      "source": [
        "# # Mask land cover values so that only PADUS is retained. nb landcov is only lower 48. Not sure why but mask after clip.\n",
        "# # \"Updates an image's mask at all positions where the existing mask is not zero. The output image retains the metadata and footprint of the input image.\"\n",
        "# # ^ This GEE explanation suggests that maybe there's already a mask associated with the original layer. I want that mask to NOT include non-PADUS stuff.\n",
        "# lc = ee.Image(\"projects/GEE_CSP/Pew-ACEC/nat_landcov_l48_eslf_v3_5_2018\").clip(padus).updateMask(padus1)\n",
        "\n",
        "\n",
        "# # Get information about the bands as a list.\n",
        "# import pprint\n",
        "# pprint.pprint(lc.getInfo())\n",
        "# band_names = lc.bandNames()\n",
        "# print('Band names:', band_names.getInfo())  # ee.List of band names\n",
        "\n",
        "\n",
        "# # # It's still so giant, try reducing.\n",
        "# # lc_red = lc.reduceNeighborhood()\n",
        "# # var texture = naipNDVI.reduceNeighborhood({\n",
        "# #   reducer: ee.Reducer.stdDev(),\n",
        "# #   kernel: ee.Kernel.circle(7),\n",
        "# # });\n",
        "\n",
        "\n",
        "\n",
        "\n",
        "# # visLC = {\n",
        "# #   'min':3000,\n",
        "# #   'max':9000,\n",
        "# #   'palette': ['red','yellow','blue']\n",
        "# # }\n",
        "\n",
        "# # map = geemap.Map(center=[40,-100], zoom=4)\n",
        "# # # map.addLayer(padus, {'color':'purple'}, name = \"fee\", shown = True, opacity = 0.5)\n",
        "# # map.addLayer(lc, visLC, name = \"land cover\", shown = True, opacity = 1)\n",
        "# # map\n",
        "\n"
      ],
      "metadata": {
        "id": "Umjl0XhBGor9"
      },
      "execution_count": null,
      "outputs": []
    }
  ]
}